{
 "cells": [
  {
   "cell_type": "code",
   "execution_count": null,
   "id": "adf9384f",
   "metadata": {
    "vscode": {
     "languageId": "plaintext"
    }
   },
   "outputs": [],
   "source": [
    "import pandas as pd\n",
    "path = '../dataset/'\n",
    "prefix = \"Fecom Inc\"\n",
    "\n",
    "customers_df = pd.read_csv(f'{path}/{prefix} Customer List.csv', sep=';')\n",
    "geolocations_df = pd.read_csv(f'{path}/{prefix} Geolocations.csv', sep=';')\n",
    "order_items_df = pd.read_csv(f'{path}/{prefix} Order Items.csv', sep=';')\n",
    "order_payments_df = pd.read_csv(f'{path}/{prefix} Order Payments.csv', sep=';')\n",
    "orders_df = pd.read_csv(f'{path}/{prefix} Orders.csv', sep=';')\n",
    "products_df = pd.read_csv(f'{path}/{prefix} Products.csv', sep=';')\n",
    "sellers_df = pd.read_csv(f'{path}/{prefix} Sellers List.csv', sep=';')\n",
    "\n",
    "customers_df"
   ]
  }
 ],
 "metadata": {
  "language_info": {
   "name": "python"
  }
 },
 "nbformat": 4,
 "nbformat_minor": 5
}
